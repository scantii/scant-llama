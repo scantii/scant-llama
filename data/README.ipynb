{
 "cells": [
  {
   "cell_type": "markdown",
   "id": "d93026c8",
   "metadata": {},
   "source": [
    "# Datasets info"
   ]
  }
 ],
 "metadata": {
  "language_info": {
   "name": "python"
  }
 },
 "nbformat": 4,
 "nbformat_minor": 5
}
