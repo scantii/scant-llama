{
 "cells": [
  {
   "cell_type": "markdown",
   "id": "c284e8f3",
   "metadata": {},
   "source": [
    "# scantii-torch Training & Models\n",
    "\n",
    "## Welcome!\n",
    "\n",
    "notebook layout"
   ]
  },
  {
   "cell_type": "markdown",
   "id": "277c295e",
   "metadata": {},
   "source": [
    "### 1. Installation\n",
    "\n",
    "## conda env\n",
    "\n",
    "required packages and example env"
   ]
  }
 ],
 "metadata": {
  "kernelspec": {
   "display_name": "Python 3",
   "language": "python",
   "name": "python3"
  }
 },
 "nbformat": 4,
 "nbformat_minor": 5
}
